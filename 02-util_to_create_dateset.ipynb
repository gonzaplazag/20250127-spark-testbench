{
 "cells": [
  {
   "cell_type": "code",
   "execution_count": 8,
   "metadata": {},
   "outputs": [],
   "source": [
    "import csv\n",
    "import random\n",
    "import string\n",
    "import os"
   ]
  },
  {
   "cell_type": "code",
   "execution_count": 9,
   "metadata": {},
   "outputs": [],
   "source": [
    "desired_size = 500 * 1024 * 1024  # 5 MB in bytes"
   ]
  },
  {
   "cell_type": "code",
   "execution_count": 10,
   "metadata": {},
   "outputs": [],
   "source": [
    "# Function to generate random data\n",
    "def generate_random_data():\n",
    "    # Column 1: 4 predefined values (repeated)\n",
    "    col1 = random.choice([1, 2, 3, 4])\n",
    "    \n",
    "    # Column 2: Random integer between 0 and 10\n",
    "    col2 = random.randint(0, 10)\n",
    "    \n",
    "    # Column 3: Random letter between A and Z\n",
    "    col3 = random.choice(string.ascii_uppercase)\n",
    "    \n",
    "    return [col1, col2, col3]"
   ]
  },
  {
   "cell_type": "code",
   "execution_count": 11,
   "metadata": {},
   "outputs": [
    {
     "name": "stdout",
     "output_type": "stream",
     "text": [
      "Generated 73937969 rows. File size: 500.00 MB\n"
     ]
    }
   ],
   "source": [
    "# Initialize variables\n",
    "file_path = './data/500mb_dataset/dataset.csv'\n",
    "rows_written = 0\n",
    "current_size = 0\n",
    "\n",
    "# Open CSV file for writing\n",
    "with open(file_path, mode='w', newline='') as csvfile:\n",
    "    writer = csv.writer(csvfile)\n",
    "    \n",
    "    # Write header\n",
    "    writer.writerow([\"Column1\", \"Column2\", \"Column3\"])\n",
    "    \n",
    "    # Keep writing rows until the file size exceeds the desired size\n",
    "    while current_size < desired_size:\n",
    "        row = generate_random_data()\n",
    "        writer.writerow(row)\n",
    "        \n",
    "        # Check the file size after writing each row\n",
    "        current_size = os.path.getsize(file_path)\n",
    "        rows_written += 1\n",
    "\n",
    "    print(f\"Generated {rows_written} rows. File size: {current_size / (1024 * 1024):.2f} MB\")"
   ]
  },
  {
   "cell_type": "code",
   "execution_count": null,
   "metadata": {},
   "outputs": [],
   "source": []
  }
 ],
 "metadata": {
  "kernelspec": {
   "display_name": ".venv",
   "language": "python",
   "name": "python3"
  },
  "language_info": {
   "codemirror_mode": {
    "name": "ipython",
    "version": 3
   },
   "file_extension": ".py",
   "mimetype": "text/x-python",
   "name": "python",
   "nbconvert_exporter": "python",
   "pygments_lexer": "ipython3",
   "version": "3.10.12"
  }
 },
 "nbformat": 4,
 "nbformat_minor": 2
}
